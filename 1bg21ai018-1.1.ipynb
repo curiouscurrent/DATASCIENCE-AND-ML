{
 "cells": [
  {
   "cell_type": "code",
   "execution_count": 2,
   "id": "a207b77f",
   "metadata": {},
   "outputs": [],
   "source": [
    "import pandas as pd\n",
    "import numpy as np\n",
    "import seaborn as sns\n",
    "import matplotlib.pyplot as plt\n",
    "%matplotlib inline"
   ]
  },
  {
   "cell_type": "code",
   "execution_count": 9,
   "id": "4a730de0",
   "metadata": {},
   "outputs": [
    {
     "data": {
      "text/html": [
       "<div>\n",
       "<style scoped>\n",
       "    .dataframe tbody tr th:only-of-type {\n",
       "        vertical-align: middle;\n",
       "    }\n",
       "\n",
       "    .dataframe tbody tr th {\n",
       "        vertical-align: top;\n",
       "    }\n",
       "\n",
       "    .dataframe thead th {\n",
       "        text-align: right;\n",
       "    }\n",
       "</style>\n",
       "<table border=\"1\" class=\"dataframe\">\n",
       "  <thead>\n",
       "    <tr style=\"text-align: right;\">\n",
       "      <th></th>\n",
       "      <th>area</th>\n",
       "      <th>rooms</th>\n",
       "      <th>BuiltYear</th>\n",
       "      <th>RemodelYear</th>\n",
       "      <th>TotalbsmtSF</th>\n",
       "      <th>SalePrice</th>\n",
       "    </tr>\n",
       "  </thead>\n",
       "  <tbody>\n",
       "    <tr>\n",
       "      <th>0</th>\n",
       "      <td>8450</td>\n",
       "      <td>5</td>\n",
       "      <td>2003</td>\n",
       "      <td>2020</td>\n",
       "      <td>56</td>\n",
       "      <td>500000</td>\n",
       "    </tr>\n",
       "    <tr>\n",
       "      <th>1</th>\n",
       "      <td>11250</td>\n",
       "      <td>8</td>\n",
       "      <td>1976</td>\n",
       "      <td>2002</td>\n",
       "      <td>23</td>\n",
       "      <td>1000000</td>\n",
       "    </tr>\n",
       "    <tr>\n",
       "      <th>2</th>\n",
       "      <td>9550</td>\n",
       "      <td>5</td>\n",
       "      <td>2001</td>\n",
       "      <td>2020</td>\n",
       "      <td>56</td>\n",
       "      <td>400000</td>\n",
       "    </tr>\n",
       "    <tr>\n",
       "      <th>3</th>\n",
       "      <td>14260</td>\n",
       "      <td>5</td>\n",
       "      <td>1915</td>\n",
       "      <td>2018</td>\n",
       "      <td>25</td>\n",
       "      <td>700000</td>\n",
       "    </tr>\n",
       "    <tr>\n",
       "      <th>4</th>\n",
       "      <td>14115</td>\n",
       "      <td>5</td>\n",
       "      <td>2000</td>\n",
       "      <td>2022</td>\n",
       "      <td>41</td>\n",
       "      <td>900000</td>\n",
       "    </tr>\n",
       "  </tbody>\n",
       "</table>\n",
       "</div>"
      ],
      "text/plain": [
       "    area  rooms  BuiltYear  RemodelYear  TotalbsmtSF  SalePrice\n",
       "0   8450      5       2003         2020           56     500000\n",
       "1  11250      8       1976         2002           23    1000000\n",
       "2   9550      5       2001         2020           56     400000\n",
       "3  14260      5       1915         2018           25     700000\n",
       "4  14115      5       2000         2022           41     900000"
      ]
     },
     "execution_count": 9,
     "metadata": {},
     "output_type": "execute_result"
    }
   ],
   "source": [
    "House = pd.read_csv('Book1.csv')\n",
    "House.head()"
   ]
  },
  {
   "cell_type": "code",
   "execution_count": 10,
   "id": "14e07707",
   "metadata": {},
   "outputs": [
    {
     "name": "stdout",
     "output_type": "stream",
     "text": [
      "<class 'pandas.core.frame.DataFrame'>\n",
      "RangeIndex: 15 entries, 0 to 14\n",
      "Data columns (total 6 columns):\n",
      " #   Column       Non-Null Count  Dtype\n",
      "---  ------       --------------  -----\n",
      " 0   area         15 non-null     int64\n",
      " 1   rooms        15 non-null     int64\n",
      " 2   BuiltYear    15 non-null     int64\n",
      " 3   RemodelYear  15 non-null     int64\n",
      " 4   TotalbsmtSF  15 non-null     int64\n",
      " 5   SalePrice    15 non-null     int64\n",
      "dtypes: int64(6)\n",
      "memory usage: 848.0 bytes\n"
     ]
    }
   ],
   "source": [
    "House.info()"
   ]
  },
  {
   "cell_type": "code",
   "execution_count": 11,
   "id": "82de87f2",
   "metadata": {},
   "outputs": [
    {
     "data": {
      "text/html": [
       "<div>\n",
       "<style scoped>\n",
       "    .dataframe tbody tr th:only-of-type {\n",
       "        vertical-align: middle;\n",
       "    }\n",
       "\n",
       "    .dataframe tbody tr th {\n",
       "        vertical-align: top;\n",
       "    }\n",
       "\n",
       "    .dataframe thead th {\n",
       "        text-align: right;\n",
       "    }\n",
       "</style>\n",
       "<table border=\"1\" class=\"dataframe\">\n",
       "  <thead>\n",
       "    <tr style=\"text-align: right;\">\n",
       "      <th></th>\n",
       "      <th>area</th>\n",
       "      <th>rooms</th>\n",
       "      <th>BuiltYear</th>\n",
       "      <th>RemodelYear</th>\n",
       "      <th>TotalbsmtSF</th>\n",
       "      <th>SalePrice</th>\n",
       "    </tr>\n",
       "  </thead>\n",
       "  <tbody>\n",
       "    <tr>\n",
       "      <th>count</th>\n",
       "      <td>15.000000</td>\n",
       "      <td>15.000000</td>\n",
       "      <td>15.000000</td>\n",
       "      <td>15.000000</td>\n",
       "      <td>15.000000</td>\n",
       "      <td>1.500000e+01</td>\n",
       "    </tr>\n",
       "    <tr>\n",
       "      <th>mean</th>\n",
       "      <td>10361.000000</td>\n",
       "      <td>5.600000</td>\n",
       "      <td>1978.200000</td>\n",
       "      <td>2014.666667</td>\n",
       "      <td>23.600000</td>\n",
       "      <td>2.513333e+06</td>\n",
       "    </tr>\n",
       "    <tr>\n",
       "      <th>std</th>\n",
       "      <td>2527.477483</td>\n",
       "      <td>1.055597</td>\n",
       "      <td>30.083693</td>\n",
       "      <td>7.612646</td>\n",
       "      <td>16.706714</td>\n",
       "      <td>4.108157e+06</td>\n",
       "    </tr>\n",
       "    <tr>\n",
       "      <th>min</th>\n",
       "      <td>6120.000000</td>\n",
       "      <td>5.000000</td>\n",
       "      <td>1915.000000</td>\n",
       "      <td>2002.000000</td>\n",
       "      <td>1.000000</td>\n",
       "      <td>4.000000e+05</td>\n",
       "    </tr>\n",
       "    <tr>\n",
       "      <th>25%</th>\n",
       "      <td>9000.000000</td>\n",
       "      <td>5.000000</td>\n",
       "      <td>1963.500000</td>\n",
       "      <td>2007.500000</td>\n",
       "      <td>13.000000</td>\n",
       "      <td>7.500000e+05</td>\n",
       "    </tr>\n",
       "    <tr>\n",
       "      <th>50%</th>\n",
       "      <td>10652.000000</td>\n",
       "      <td>5.000000</td>\n",
       "      <td>1993.000000</td>\n",
       "      <td>2018.000000</td>\n",
       "      <td>21.000000</td>\n",
       "      <td>1.000000e+06</td>\n",
       "    </tr>\n",
       "    <tr>\n",
       "      <th>75%</th>\n",
       "      <td>11587.000000</td>\n",
       "      <td>6.000000</td>\n",
       "      <td>2003.000000</td>\n",
       "      <td>2020.000000</td>\n",
       "      <td>28.500000</td>\n",
       "      <td>1.400000e+06</td>\n",
       "    </tr>\n",
       "    <tr>\n",
       "      <th>max</th>\n",
       "      <td>14260.000000</td>\n",
       "      <td>8.000000</td>\n",
       "      <td>2005.000000</td>\n",
       "      <td>2023.000000</td>\n",
       "      <td>56.000000</td>\n",
       "      <td>1.400000e+07</td>\n",
       "    </tr>\n",
       "  </tbody>\n",
       "</table>\n",
       "</div>"
      ],
      "text/plain": [
       "               area      rooms    BuiltYear  RemodelYear  TotalbsmtSF  \\\n",
       "count     15.000000  15.000000    15.000000    15.000000    15.000000   \n",
       "mean   10361.000000   5.600000  1978.200000  2014.666667    23.600000   \n",
       "std     2527.477483   1.055597    30.083693     7.612646    16.706714   \n",
       "min     6120.000000   5.000000  1915.000000  2002.000000     1.000000   \n",
       "25%     9000.000000   5.000000  1963.500000  2007.500000    13.000000   \n",
       "50%    10652.000000   5.000000  1993.000000  2018.000000    21.000000   \n",
       "75%    11587.000000   6.000000  2003.000000  2020.000000    28.500000   \n",
       "max    14260.000000   8.000000  2005.000000  2023.000000    56.000000   \n",
       "\n",
       "          SalePrice  \n",
       "count  1.500000e+01  \n",
       "mean   2.513333e+06  \n",
       "std    4.108157e+06  \n",
       "min    4.000000e+05  \n",
       "25%    7.500000e+05  \n",
       "50%    1.000000e+06  \n",
       "75%    1.400000e+06  \n",
       "max    1.400000e+07  "
      ]
     },
     "execution_count": 11,
     "metadata": {},
     "output_type": "execute_result"
    }
   ],
   "source": [
    "House.describe()"
   ]
  },
  {
   "cell_type": "code",
   "execution_count": 13,
   "id": "08a417ff",
   "metadata": {},
   "outputs": [
    {
     "data": {
      "text/plain": [
       "Index(['area', 'rooms', 'BuiltYear', 'RemodelYear', 'TotalbsmtSF',\n",
       "       'SalePrice'],\n",
       "      dtype='object')"
      ]
     },
     "execution_count": 13,
     "metadata": {},
     "output_type": "execute_result"
    }
   ],
   "source": [
    "House.columns"
   ]
  },
  {
   "cell_type": "code",
   "execution_count": 14,
   "id": "4cc9de9e",
   "metadata": {},
   "outputs": [
    {
     "data": {
      "text/plain": [
       "<seaborn.axisgrid.PairGrid at 0x24fd1e3dbe0>"
      ]
     },
     "execution_count": 14,
     "metadata": {},
     "output_type": "execute_result"
    },
    {
     "data": {
      "image/png": "[encoded data removed]",
      "text/plain": [
       "<Figure size 1080x1080 with 42 Axes>"
      ]
     },
     "metadata": {
      "needs_background": "light"
     },
     "output_type": "display_data"
    }
   ],
   "source": [
    "sns.pairplot(House)"
   ]
  },
  {
   "cell_type": "code",
   "execution_count": 16,
   "id": "3bb5e460",
   "metadata": {},
   "outputs": [
    {
     "name": "stderr",
     "output_type": "stream",
     "text": [
      "C:\\ProgramData\\Anaconda3\\lib\\site-packages\\seaborn\\distributions.py:2619: FutureWarning: `distplot` is a deprecated function and will be removed in a future version. Please adapt your code to use either `displot` (a figure-level function with similar flexibility) or `histplot` (an axes-level function for histograms).\n",
      "  warnings.warn(msg, FutureWarning)\n"
     ]
    },
    {
     "data": {
      "text/plain": [
       "<AxesSubplot:xlabel='SalePrice', ylabel='Density'>"
      ]
     },
     "execution_count": 16,
     "metadata": {},
     "output_type": "execute_result"
    },
    {
     "data": {
      "image/png": "[encoded data removed]",
      "text/plain": [
       "<Figure size 432x288 with 1 Axes>"
      ]
     },
     "metadata": {
      "needs_background": "light"
     },
     "output_type": "display_data"
    }
   ],
   "source": [
    "sns.distplot(House['SalePrice'])"
   ]
  },
  {
   "cell_type": "code",
   "execution_count": 21,
   "id": "81494f79",
   "metadata": {},
   "outputs": [
    {
     "data": {
      "text/plain": [
       "<AxesSubplot:>"
      ]
     },
     "execution_count": 21,
     "metadata": {},
     "output_type": "execute_result"
    },
    {
     "data": {
      "image/png": "[encoded data removed]",
      "text/plain": [
       "<Figure size 432x288 with 2 Axes>"
      ]
     },
     "metadata": {
      "needs_background": "light"
     },
     "output_type": "display_data"
    }
   ],
   "source": [
    "sns.heatmap(House.corr())"
   ]
  },
  {
   "cell_type": "code",
   "execution_count": 31,
   "id": "7e796214",
   "metadata": {},
   "outputs": [],
   "source": [
    "x=House[['area', 'rooms', 'BuiltYear', 'RemodelYear', 'TotalbsmtSF']]\n",
    "y=House['SalePrice']"
   ]
  },
  {
   "cell_type": "code",
   "execution_count": 32,
   "id": "a4bde77f",
   "metadata": {},
   "outputs": [],
   "source": [
    "from sklearn.model_selection import train_test_split "
   ]
  },
  {
   "cell_type": "markdown",
   "id": "f71a506a",
   "metadata": {},
   "source": [
    "## 40 percent training and 60 percent testing"
   ]
  },
  {
   "cell_type": "code",
   "execution_count": null,
   "id": "39848393",
   "metadata": {},
   "outputs": [],
   "source": []
  },
  {
   "cell_type": "code",
   "execution_count": 36,
   "id": "3f4f5839",
   "metadata": {},
   "outputs": [
    {
     "data": {
      "text/html": [
       "<div>\n",
       "<style scoped>\n",
       "    .dataframe tbody tr th:only-of-type {\n",
       "        vertical-align: middle;\n",
       "    }\n",
       "\n",
       "    .dataframe tbody tr th {\n",
       "        vertical-align: top;\n",
       "    }\n",
       "\n",
       "    .dataframe thead th {\n",
       "        text-align: right;\n",
       "    }\n",
       "</style>\n",
       "<table border=\"1\" class=\"dataframe\">\n",
       "  <thead>\n",
       "    <tr style=\"text-align: right;\">\n",
       "      <th></th>\n",
       "      <th>area</th>\n",
       "      <th>rooms</th>\n",
       "      <th>BuiltYear</th>\n",
       "      <th>RemodelYear</th>\n",
       "      <th>TotalbsmtSF</th>\n",
       "    </tr>\n",
       "  </thead>\n",
       "  <tbody>\n",
       "    <tr>\n",
       "      <th>0</th>\n",
       "      <td>8450</td>\n",
       "      <td>5</td>\n",
       "      <td>2003</td>\n",
       "      <td>2020</td>\n",
       "      <td>56</td>\n",
       "    </tr>\n",
       "    <tr>\n",
       "      <th>14</th>\n",
       "      <td>6120</td>\n",
       "      <td>8</td>\n",
       "      <td>2003</td>\n",
       "      <td>2009</td>\n",
       "      <td>15</td>\n",
       "    </tr>\n",
       "    <tr>\n",
       "      <th>4</th>\n",
       "      <td>14115</td>\n",
       "      <td>5</td>\n",
       "      <td>2000</td>\n",
       "      <td>2022</td>\n",
       "      <td>41</td>\n",
       "    </tr>\n",
       "    <tr>\n",
       "      <th>8</th>\n",
       "      <td>7420</td>\n",
       "      <td>6</td>\n",
       "      <td>1931</td>\n",
       "      <td>2018</td>\n",
       "      <td>32</td>\n",
       "    </tr>\n",
       "    <tr>\n",
       "      <th>9</th>\n",
       "      <td>11200</td>\n",
       "      <td>5</td>\n",
       "      <td>1939</td>\n",
       "      <td>2006</td>\n",
       "      <td>24</td>\n",
       "    </tr>\n",
       "    <tr>\n",
       "      <th>7</th>\n",
       "      <td>6120</td>\n",
       "      <td>5</td>\n",
       "      <td>1973</td>\n",
       "      <td>2005</td>\n",
       "      <td>20</td>\n",
       "    </tr>\n",
       "    <tr>\n",
       "      <th>6</th>\n",
       "      <td>10382</td>\n",
       "      <td>6</td>\n",
       "      <td>2004</td>\n",
       "      <td>2021</td>\n",
       "      <td>1</td>\n",
       "    </tr>\n",
       "    <tr>\n",
       "      <th>1</th>\n",
       "      <td>11250</td>\n",
       "      <td>8</td>\n",
       "      <td>1976</td>\n",
       "      <td>2002</td>\n",
       "      <td>23</td>\n",
       "    </tr>\n",
       "    <tr>\n",
       "      <th>11</th>\n",
       "      <td>12968</td>\n",
       "      <td>6</td>\n",
       "      <td>2005</td>\n",
       "      <td>2023</td>\n",
       "      <td>12</td>\n",
       "    </tr>\n",
       "  </tbody>\n",
       "</table>\n",
       "</div>"
      ],
      "text/plain": [
       "     area  rooms  BuiltYear  RemodelYear  TotalbsmtSF\n",
       "0    8450      5       2003         2020           56\n",
       "14   6120      8       2003         2009           15\n",
       "4   14115      5       2000         2022           41\n",
       "8    7420      6       1931         2018           32\n",
       "9   11200      5       1939         2006           24\n",
       "7    6120      5       1973         2005           20\n",
       "6   10382      6       2004         2021            1\n",
       "1   11250      8       1976         2002           23\n",
       "11  12968      6       2005         2023           12"
      ]
     },
     "execution_count": 36,
     "metadata": {},
     "output_type": "execute_result"
    }
   ],
   "source": [
    "x_train,x_test,y_train,y_test=train_test_split(x,y,test_size=0.40,random_state=101)\n",
    "x_train\n"
   ]
  },
  {
   "cell_type": "code",
   "execution_count": 37,
   "id": "fdf76640",
   "metadata": {},
   "outputs": [
    {
     "data": {
      "text/html": [
       "<div>\n",
       "<style scoped>\n",
       "    .dataframe tbody tr th:only-of-type {\n",
       "        vertical-align: middle;\n",
       "    }\n",
       "\n",
       "    .dataframe tbody tr th {\n",
       "        vertical-align: top;\n",
       "    }\n",
       "\n",
       "    .dataframe thead th {\n",
       "        text-align: right;\n",
       "    }\n",
       "</style>\n",
       "<table border=\"1\" class=\"dataframe\">\n",
       "  <thead>\n",
       "    <tr style=\"text-align: right;\">\n",
       "      <th></th>\n",
       "      <th>area</th>\n",
       "      <th>rooms</th>\n",
       "      <th>BuiltYear</th>\n",
       "      <th>RemodelYear</th>\n",
       "      <th>TotalbsmtSF</th>\n",
       "    </tr>\n",
       "  </thead>\n",
       "  <tbody>\n",
       "    <tr>\n",
       "      <th>13</th>\n",
       "      <td>10920</td>\n",
       "      <td>5</td>\n",
       "      <td>2003</td>\n",
       "      <td>2019</td>\n",
       "      <td>12</td>\n",
       "    </tr>\n",
       "    <tr>\n",
       "      <th>2</th>\n",
       "      <td>9550</td>\n",
       "      <td>5</td>\n",
       "      <td>2001</td>\n",
       "      <td>2020</td>\n",
       "      <td>56</td>\n",
       "    </tr>\n",
       "    <tr>\n",
       "      <th>3</th>\n",
       "      <td>14260</td>\n",
       "      <td>5</td>\n",
       "      <td>1915</td>\n",
       "      <td>2018</td>\n",
       "      <td>25</td>\n",
       "    </tr>\n",
       "    <tr>\n",
       "      <th>12</th>\n",
       "      <td>10652</td>\n",
       "      <td>5</td>\n",
       "      <td>1962</td>\n",
       "      <td>2020</td>\n",
       "      <td>14</td>\n",
       "    </tr>\n",
       "    <tr>\n",
       "      <th>10</th>\n",
       "      <td>11924</td>\n",
       "      <td>5</td>\n",
       "      <td>1965</td>\n",
       "      <td>2002</td>\n",
       "      <td>21</td>\n",
       "    </tr>\n",
       "    <tr>\n",
       "      <th>5</th>\n",
       "      <td>10084</td>\n",
       "      <td>5</td>\n",
       "      <td>1993</td>\n",
       "      <td>2015</td>\n",
       "      <td>2</td>\n",
       "    </tr>\n",
       "  </tbody>\n",
       "</table>\n",
       "</div>"
      ],
      "text/plain": [
       "     area  rooms  BuiltYear  RemodelYear  TotalbsmtSF\n",
       "13  10920      5       2003         2019           12\n",
       "2    9550      5       2001         2020           56\n",
       "3   14260      5       1915         2018           25\n",
       "12  10652      5       1962         2020           14\n",
       "10  11924      5       1965         2002           21\n",
       "5   10084      5       1993         2015            2"
      ]
     },
     "execution_count": 37,
     "metadata": {},
     "output_type": "execute_result"
    }
   ],
   "source": [
    "x_test"
   ]
  },
  {
   "cell_type": "code",
   "execution_count": 38,
   "id": "2380da3b",
   "metadata": {},
   "outputs": [
    {
     "data": {
      "text/plain": [
       "0       500000\n",
       "14     1600000\n",
       "4       900000\n",
       "8      1200000\n",
       "9     11000000\n",
       "7       900000\n",
       "6       800000\n",
       "1      1000000\n",
       "11     1300000\n",
       "Name: SalePrice, dtype: int64"
      ]
     },
     "execution_count": 38,
     "metadata": {},
     "output_type": "execute_result"
    }
   ],
   "source": [
    "y_train"
   ]
  },
  {
   "cell_type": "code",
   "execution_count": 39,
   "id": "2491e0ed",
   "metadata": {},
   "outputs": [
    {
     "data": {
      "text/plain": [
       "13     1500000\n",
       "2       400000\n",
       "3       700000\n",
       "12    14000000\n",
       "10     1200000\n",
       "5       700000\n",
       "Name: SalePrice, dtype: int64"
      ]
     },
     "execution_count": 39,
     "metadata": {},
     "output_type": "execute_result"
    }
   ],
   "source": [
    "y_test"
   ]
  },
  {
   "cell_type": "code",
   "execution_count": 43,
   "id": "6c87b380",
   "metadata": {},
   "outputs": [
    {
     "data": {
      "text/plain": [
       "LinearRegression()"
      ]
     },
     "execution_count": 43,
     "metadata": {},
     "output_type": "execute_result"
    }
   ],
   "source": [
    "from sklearn.linear_model import LinearRegression\n",
    "lm = LinearRegression()\n",
    "lm.fit(x_train,y_train)"
   ]
  },
  {
   "cell_type": "code",
   "execution_count": 46,
   "id": "042ad740",
   "metadata": {},
   "outputs": [
    {
     "data": {
      "text/html": [
       "<div>\n",
       "<style scoped>\n",
       "    .dataframe tbody tr th:only-of-type {\n",
       "        vertical-align: middle;\n",
       "    }\n",
       "\n",
       "    .dataframe tbody tr th {\n",
       "        vertical-align: top;\n",
       "    }\n",
       "\n",
       "    .dataframe thead th {\n",
       "        text-align: right;\n",
       "    }\n",
       "</style>\n",
       "<table border=\"1\" class=\"dataframe\">\n",
       "  <thead>\n",
       "    <tr style=\"text-align: right;\">\n",
       "      <th></th>\n",
       "      <th>Coefficient</th>\n",
       "    </tr>\n",
       "  </thead>\n",
       "  <tbody>\n",
       "    <tr>\n",
       "      <th>area</th>\n",
       "      <td>407.594310</td>\n",
       "    </tr>\n",
       "    <tr>\n",
       "      <th>rooms</th>\n",
       "      <td>-993346.543181</td>\n",
       "    </tr>\n",
       "    <tr>\n",
       "      <th>BuiltYear</th>\n",
       "      <td>-46595.774091</td>\n",
       "    </tr>\n",
       "    <tr>\n",
       "      <th>RemodelYear</th>\n",
       "      <td>-176861.112946</td>\n",
       "    </tr>\n",
       "    <tr>\n",
       "      <th>TotalbsmtSF</th>\n",
       "      <td>-37510.077369</td>\n",
       "    </tr>\n",
       "  </tbody>\n",
       "</table>\n",
       "</div>"
      ],
      "text/plain": [
       "               Coefficient\n",
       "area            407.594310\n",
       "rooms       -993346.543181\n",
       "BuiltYear    -46595.774091\n",
       "RemodelYear -176861.112946\n",
       "TotalbsmtSF  -37510.077369"
      ]
     },
     "execution_count": 46,
     "metadata": {},
     "output_type": "execute_result"
    }
   ],
   "source": [
    "coeff_df=pd.DataFrame(lm.coef_,x.columns,columns=['Coefficient'])\n",
    "coeff_df"
   ]
  },
  {
   "cell_type": "code",
   "execution_count": 49,
   "id": "4de2f4fb",
   "metadata": {},
   "outputs": [
    {
     "data": {
      "text/plain": [
       "<matplotlib.collections.PathCollection at 0x24fd7e41e50>"
      ]
     },
     "execution_count": 49,
     "metadata": {},
     "output_type": "execute_result"
    },
    {
     "data": {
      "image/png": "[encoded data removed]",
      "text/plain": [
       "<Figure size 432x288 with 1 Axes>"
      ]
     },
     "metadata": {
      "needs_background": "light"
     },
     "output_type": "display_data"
    }
   ],
   "source": [
    "predictions=lm.predict(x_test)\n",
    "plt.scatter(y_test,predictions)"
   ]
  },
  {
   "cell_type": "code",
   "execution_count": 54,
   "id": "bb6dfd6d",
   "metadata": {
    "scrolled": true
   },
   "outputs": [
    {
     "data": {
      "image/png": "[encoded data removed]",
      "text/plain": [
       "<Figure size 432x288 with 1 Axes>"
      ]
     },
     "metadata": {
      "needs_background": "light"
     },
     "output_type": "display_data"
    }
   ],
   "source": [
    "sns.distplot((y_test-predictions),bins=50);"
   ]
  },
  {
   "cell_type": "code",
   "execution_count": null,
   "id": "ccfb0048",
   "metadata": {},
   "outputs": [],
   "source": []
  }
 ],
 "metadata": {
  "kernelspec": {
   "display_name": "Python 3 (ipykernel)",
   "language": "python",
   "name": "python3"
  },
  "language_info": {
   "codemirror_mode": {
    "name": "ipython",
    "version": 3
   },
   "file_extension": ".py",
   "mimetype": "text/x-python",
   "name": "python",
   "nbconvert_exporter": "python",
   "pygments_lexer": "ipython3",
   "version": "3.9.12"
  }
 },
 "nbformat": 4,
 "nbformat_minor": 5
}
